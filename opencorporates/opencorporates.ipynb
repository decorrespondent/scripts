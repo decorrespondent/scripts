{
 "cells": [
  {
   "cell_type": "markdown",
   "metadata": {},
   "source": [
    "# Opencorporates code snippets\n",
    "\n",
    "The aim of this notebook is to create some code snippets to query the opencorporates database. These snippets can be reused in other code, or on other platforms such as recon-ng or maltego. \n",
    "\n",
    "Opencorporates does allow to query the API without a key up to approximately 100 times a day. They provide free keys for some open source projects. You can find the API reference of opencorporates [here](https://api.opencorporates.com/documentation/API-Reference) and more on API keys [here](https://opencorporates.com/api_accounts/new)"
   ]
  },
  {
   "cell_type": "code",
   "execution_count": null,
   "metadata": {},
   "outputs": [],
   "source": [
    "import requests\n",
    "import pprint"
   ]
  },
  {
   "cell_type": "markdown",
   "metadata": {},
   "source": [
    "First define a basic search function with pagination"
   ]
  },
  {
   "cell_type": "code",
   "execution_count": null,
   "metadata": {},
   "outputs": [],
   "source": [
    "def search_company(company_name, jurisdiction=None):\n",
    "    \n",
    "    '''search company by name and jurisdiction \n",
    "    and returns a list of companies'''\n",
    "    \n",
    "    search_endpoint = 'https://api.opencorporates.com/v0.4/companies/search?q=' \n",
    "\n",
    "    if jurisdiction != None:\n",
    "        query = search_endpoint + company_name + '&jurisdiction_code=' + jurisdiction\n",
    "    \n",
    "    else:\n",
    "        query = search_endpoint + company_name\n",
    "        \n",
    "    result = requests.get(query).json()\n",
    "    print(result)\n",
    "    companies = []\n",
    "    \n",
    "    for company in result['results']['companies']:\n",
    "        companies.append(company)\n",
    "    \n",
    "    total_pages = result['results'].get('total_pages')\n",
    "    count = 2\n",
    "    \n",
    "    if total_pages > 1:\n",
    "        while count <= total_pages:\n",
    "            query2 = query + '&page=' + str(count)\n",
    "            result = requests.get(query2).json()\n",
    "            for company in result['results']['companies']:\n",
    "                companies.append(company)\n",
    "\n",
    "            count +=1\n",
    "            \n",
    "    return companies"
   ]
  },
  {
   "cell_type": "markdown",
   "metadata": {},
   "source": [
    "see if it works..."
   ]
  },
  {
   "cell_type": "code",
   "execution_count": null,
   "metadata": {},
   "outputs": [],
   "source": [
    "nl = search_company('fox-it', jurisdiction='nl')\n",
    "world = search_company('fox-it')"
   ]
  },
  {
   "cell_type": "code",
   "execution_count": null,
   "metadata": {},
   "outputs": [],
   "source": [
    "count = 0\n",
    "for company in nl:\n",
    "    count +=1\n",
    "print('found ' + str(count) + ' companies')\n",
    "\n",
    "pprint.pprint(nl)"
   ]
  },
  {
   "cell_type": "code",
   "execution_count": null,
   "metadata": {},
   "outputs": [],
   "source": [
    "count = 0\n",
    "for company in world:\n",
    "    count +=1\n",
    "print('found ' + str(count) + ' companies')\n",
    "\n",
    "pprint.pprint(world)"
   ]
  },
  {
   "cell_type": "markdown",
   "metadata": {},
   "source": [
    "Parse the data and extract relevant information, such as name, company_number, company_type, current_status, incorporation_date, dissolution_date, inactive, jurisdiction_code, opencorporates_url, previous_names, street_address, postal_code, country, address_in_full, source_url, source."
   ]
  },
  {
   "cell_type": "code",
   "execution_count": null,
   "metadata": {},
   "outputs": [],
   "source": [
    "def parse_company_data(result):\n",
    "    \n",
    "    '''parses results of company search\n",
    "    and returns list of tuples'''\n",
    "    \n",
    "    for company in result:\n",
    "        name = company['company'].get('name', 'unknown')\n",
    "        company_number = company['company'].get('company_number', 'unknown')\n",
    "        company_type = company['company'].get('company_type', 'unknown')\n",
    "        current_status = company['company'].get('current_status', 'unknown')\n",
    "        incorporation_date = company['company'].get('incorporation_date', 'unknown')\n",
    "        dissolution_date = company['company'].get('dissolution_date', 'still active')\n",
    "        inactive = company['company'].get('inactive', 'unknown')\n",
    "        jurisdiction_code = company['company'].get('jurisdiction_code', 'unknown.')\n",
    "        opencorporates_url = company['company'].get('opencorporates_url', 'unknown')\n",
    "        previous_names = company['company'].get('previous_names', 'no previous names')\n",
    "        try:\n",
    "            street_address = company['company']['registered_address'].get('street_address', 'unknown')\n",
    "        except:\n",
    "            street_address = 'unknown'\n",
    "        try:\n",
    "            postal_code = company['company']['registered_address'].get('postal_code', 'unknown')\n",
    "        except:\n",
    "            postal_code = 'unknown'\n",
    "        try:\n",
    "            country = company['company']['registered_address'].get('country', 'unknown')\n",
    "        except:\n",
    "            country = 'unknown'\n",
    "        \n",
    "        address_in_full = company['company'].get('registered_address_in_full', 'unknown')\n",
    "        source_url = company['company'].get('registry_url', 'unknown')\n",
    "        source = company['company']['source'].get('publisher', 'unknown')\n",
    "\n",
    "        yield name, company_number, company_type, current_status, \\\n",
    "            incorporation_date, dissolution_date, inactive, jurisdiction_code, \\\n",
    "            opencorporates_url, previous_names, street_address, postal_code, \\\n",
    "            country, address_in_full, source_url, source\n",
    "            "
   ]
  },
  {
   "cell_type": "code",
   "execution_count": null,
   "metadata": {},
   "outputs": [],
   "source": [
    "companies = list(parse_company_data(nl))"
   ]
  },
  {
   "cell_type": "code",
   "execution_count": null,
   "metadata": {},
   "outputs": [],
   "source": [
    "for result in companies:\n",
    "    name, company_number, company_type, current_status, \\\n",
    "    incorporation_date, dissolution_date, inactive, jurisdiction_code, \\\n",
    "    opencorporates_url, previous_names, street_address, postal_code, \\\n",
    "    country, address_in_full, source_url, source = result\n",
    "    print(name, company_number, jurisdiction_code, inactive)"
   ]
  },
  {
   "cell_type": "code",
   "execution_count": null,
   "metadata": {},
   "outputs": [],
   "source": []
  }
 ],
 "metadata": {
  "kernelspec": {
   "display_name": "opencorporates",
   "language": "python",
   "name": "opencorporates"
  },
  "language_info": {
   "codemirror_mode": {
    "name": "ipython",
    "version": 3
   },
   "file_extension": ".py",
   "mimetype": "text/x-python",
   "name": "python",
   "nbconvert_exporter": "python",
   "pygments_lexer": "ipython3",
   "version": "3.6.8"
  }
 },
 "nbformat": 4,
 "nbformat_minor": 2
}
