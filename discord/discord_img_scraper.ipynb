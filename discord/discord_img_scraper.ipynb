{
 "cells": [
  {
   "cell_type": "code",
   "execution_count": 11,
   "metadata": {},
   "outputs": [
    {
     "name": "stdout",
     "output_type": "stream",
     "text": [
      "Pages to scrape: 10\n",
      "Failed to grab JSON data from 'https://discordapp.com/api/v6/guilds/405852661531803650/messages/search?has=image&has=video&include_nsfw=true&channel_id=406793381273141249&offset=25'.\n"
     ]
    },
    {
     "name": "stderr",
     "output_type": "stream",
     "text": [
      "/usr/local/lib/python3.6/site-packages/requests/packages/urllib3/connectionpool.py:852: InsecureRequestWarning: Unverified HTTPS request is being made. Adding certificate verification is strongly advised. See: https://urllib3.readthedocs.io/en/latest/advanced-usage.html#ssl-warnings\n",
      "  InsecureRequestWarning)\n"
     ]
    },
    {
     "ename": "TypeError",
     "evalue": "'NoneType' object is not subscriptable",
     "output_type": "error",
     "traceback": [
      "\u001b[0;31m---------------------------------------------------------------------------\u001b[0m",
      "\u001b[0;31mTypeError\u001b[0m                                 Traceback (most recent call last)",
      "\u001b[0;32m<ipython-input-11-92e541d1ca61>\u001b[0m in \u001b[0;36m<module>\u001b[0;34m()\u001b[0m\n\u001b[1;32m     38\u001b[0m         \u001b[0mjsonData\u001b[0m \u001b[0;34m=\u001b[0m \u001b[0mdiscord\u001b[0m\u001b[0;34m.\u001b[0m\u001b[0mgrabJSON\u001b[0m\u001b[0;34m(\u001b[0m\u001b[0mi\u001b[0m\u001b[0;34m)\u001b[0m\u001b[0;34m\u001b[0m\u001b[0m\n\u001b[1;32m     39\u001b[0m \u001b[0;34m\u001b[0m\u001b[0m\n\u001b[0;32m---> 40\u001b[0;31m         \u001b[0;32mfor\u001b[0m \u001b[0mmessages\u001b[0m \u001b[0;32min\u001b[0m \u001b[0mjsonData\u001b[0m\u001b[0;34m[\u001b[0m\u001b[0;34m'messages'\u001b[0m\u001b[0;34m]\u001b[0m\u001b[0;34m:\u001b[0m\u001b[0;34m\u001b[0m\u001b[0m\n\u001b[0m\u001b[1;32m     41\u001b[0m             \u001b[0;32mfor\u001b[0m \u001b[0mx\u001b[0m \u001b[0;32min\u001b[0m \u001b[0mrange\u001b[0m\u001b[0;34m(\u001b[0m\u001b[0mlen\u001b[0m\u001b[0;34m(\u001b[0m\u001b[0mmessages\u001b[0m\u001b[0;34m)\u001b[0m\u001b[0;34m)\u001b[0m\u001b[0;34m:\u001b[0m\u001b[0;34m\u001b[0m\u001b[0m\n\u001b[1;32m     42\u001b[0m                 \u001b[0;32mfor\u001b[0m \u001b[0mattachments\u001b[0m \u001b[0;32min\u001b[0m \u001b[0mmessages\u001b[0m\u001b[0;34m[\u001b[0m\u001b[0mx\u001b[0m\u001b[0;34m]\u001b[0m\u001b[0;34m[\u001b[0m\u001b[0;34m'attachments'\u001b[0m\u001b[0;34m]\u001b[0m\u001b[0;34m:\u001b[0m\u001b[0;34m\u001b[0m\u001b[0m\n",
      "\u001b[0;31mTypeError\u001b[0m: 'NoneType' object is not subscriptable"
     ]
    }
   ],
   "source": [
    "import threading, requests, urllib3, shutil, json, sys, os\n",
    "urllib3.disable_warnings(urllib3.exceptions.InsecureRequestWarning)\n",
    "\n",
    "class Discord:\n",
    "    def __init__(self):\n",
    "        self.token      = 'MzgxMzkyMDk3MzI2MTM3MzQ0.DSOeig.kcMQ09P8RafIM-f5gdZBKDCwXAw'\n",
    "        self.server     = '405852661531803650'\n",
    "        self.channel    = '406793381273141249'\n",
    "        self.query      = 'has=image&has=video&include_nsfw=true'\n",
    "\n",
    "    def grabJSON(self, page=1):\n",
    "        url, header = 'https://discordapp.com/api/v6/guilds/{}/messages/search?{}&channel_id={}&offset={}'.format(self.server, self.query, self.channel, page * 25), {'user-agent': 'Mozilla/5.0 (Windows NT 10.0; WOW64) AppleWebKit/537.36 (KHTML, like Gecko) discord/0.0.300 Chrome/56.0.2924.87 Discord/1.6.15 Safari/537.36', 'authorization': self.token}\n",
    "        jsonContents = requests.get(url, headers=header, verify=False, allow_redirects=False)\n",
    "\n",
    "        if jsonContents.status_code == requests.codes.ok:\n",
    "            requests.encoding = 'utf-8'\n",
    "            return json.loads(jsonContents.text)\n",
    "        else: sys.stdout.write('Failed to grab JSON data from \\'{}\\'.\\n'.format(url))\n",
    "\n",
    "    def saveFile(self, fileUrl, dataPath):\n",
    "        rawFileData = requests.get(fileUrl, stream=True)\n",
    "        if rawFileData.status_code == requests.codes.ok:\n",
    "            rawFileName = os.path.join(dataPath, fileUrl.split('/')[-1])\n",
    "                    \n",
    "            with open(rawFileName, 'wb') as fileStream:\n",
    "                shutil.copyfileobj(rawFileData.raw, fileStream)\n",
    "                        \n",
    "        del rawFileData\n",
    "\n",
    "if __name__ == '__main__':\n",
    "    discord = Discord()\n",
    "    \n",
    "    numPages, folderName, dataArray = int(input('Pages to scrape: ')), 'discord_scrapes', []\n",
    "    dataPath = os.path.join(os.getcwd(), folderName)\n",
    "    if not os.path.exists(dataPath): os.mkdir(dataPath)\n",
    "\n",
    "    for i in range(1, numPages + 1):\n",
    "        jsonData = discord.grabJSON(i)\n",
    "\n",
    "        for messages in jsonData['messages']:\n",
    "            for x in range(len(messages)):\n",
    "                for attachments in messages[x]['attachments']:\n",
    "                    dataArray.append(attachments['url'])\n",
    "\n",
    "    dataArray, threads = list(set(dataArray)), []\n",
    "    for data in dataArray:\n",
    "        t = threading.Thread(target=discord.saveFile, args=(data, dataPath, ))\n",
    "        threads.append(t)\n",
    "\n",
    "    for thread in threads:\n",
    "        thread.start()\n",
    "\n",
    "        if not thread.isAlive:\n",
    "            threads.remove(thread)\n",
    "\n",
    "    del threads[:]"
   ]
  },
  {
   "cell_type": "code",
   "execution_count": null,
   "metadata": {
    "collapsed": true
   },
   "outputs": [],
   "source": []
  },
  {
   "cell_type": "code",
   "execution_count": null,
   "metadata": {
    "collapsed": true
   },
   "outputs": [],
   "source": []
  }
 ],
 "metadata": {
  "kernelspec": {
   "display_name": "Python 3",
   "language": "python",
   "name": "python3"
  },
  "language_info": {
   "codemirror_mode": {
    "name": "ipython",
    "version": 3
   },
   "file_extension": ".py",
   "mimetype": "text/x-python",
   "name": "python",
   "nbconvert_exporter": "python",
   "pygments_lexer": "ipython3",
   "version": "3.6.1"
  }
 },
 "nbformat": 4,
 "nbformat_minor": 2
}
